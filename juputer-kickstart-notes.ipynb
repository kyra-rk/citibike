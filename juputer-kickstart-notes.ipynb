{
 "cells": [
  {
   "cell_type": "markdown",
   "id": "cc385001",
   "metadata": {},
   "source": [
    "## key terms\n",
    "- A cell is a container of text to be displayed (markdown) or code to be executed by the notebook's kernel (code)\n",
    "- A kernel is a \"computational engine\" that executes the code in the notebook \n",
    "    - the kernel's state persists over time. so importing a library once means you don't need to import it again"
   ]
  },
  {
   "cell_type": "code",
   "execution_count": 1,
   "id": "2d36cab1",
   "metadata": {},
   "outputs": [
    {
     "name": "stdout",
     "output_type": "stream",
     "text": [
      "Hello World\n"
     ]
    }
   ],
   "source": [
    "print('Hello World')\n",
    "# the number inside In[_] represents when it was run on the kernel"
   ]
  },
  {
   "cell_type": "code",
   "execution_count": 11,
   "id": "ac4be957",
   "metadata": {},
   "outputs": [],
   "source": [
    "import time\n",
    "time.sleep(3)\n",
    "# notice how when running, it shows In[*] but doesn't print anything"
   ]
  },
  {
   "cell_type": "code",
   "execution_count": 6,
   "id": "6b4e4210",
   "metadata": {},
   "outputs": [
    {
     "data": {
      "text/plain": [
       "'Hello, Kyra!'"
      ]
     },
     "execution_count": 6,
     "metadata": {},
     "output_type": "execute_result"
    }
   ],
   "source": [
    "def say_hello(recipient):\n",
    "    return 'Hello, {}!'.format(recipient)\n",
    "\n",
    "say_hello('Tim')\n",
    "say_hello('Kyra') # output comes from any data printed out and the last line in the cell (variable, function call etc.)\n"
   ]
  },
  {
   "cell_type": "markdown",
   "id": "112f981d",
   "metadata": {},
   "source": [
    "## keyboard shortcuts\n",
    "- Toggle between edit and command mode with **Esc and Enter**, respectively.\n",
    "- Once in command mode:\n",
    "    - Scroll up and down your cells with your **Up and Down** keys.\n",
    "    - Press **A or B** to insert a new cell above or below the active cell.\n",
    "    - **M** will transform the active cell to a Markdown cell.\n",
    "    - **Y** will set the active cell to a code cell.\n",
    "    - **D + D (D twice)** will delete the active cell.\n",
    "    - **Z** will undo cell deletion.\n",
    "    - Hold **Shift and press Up or Down** to select multiple cells at once. With multiple cells selected, **Shift + M will merge** your selection.\n",
    "- **Ctrl + Shift + -**, in edit mode, will split the active cell at the cursor.\n",
    "- You can also click and **Shift + Click** in the margin to the left of your cells to select them."
   ]
  },
  {
   "cell_type": "markdown",
   "id": "5e2e67aa",
   "metadata": {},
   "source": [
    ", in edit mode, will split the active cell at the cursor.\n",
    "- You can also click and Shift + Click in the margin to the left of your cells to select them."
   ]
  },
  {
   "cell_type": "markdown",
   "id": "e59c4594",
   "metadata": {},
   "source": [
    "## more markdown formatting ([official guide here](https://daringfireball.net/projects/markdown/syntax))\n",
    "\n",
    "# This is a level 1 heading\n",
    "\n",
    "## This is a level 2 heading\n",
    "\n",
    "This is some plain text that forms a paragraph. Add emphasis via **bold** and __bold__, or *italic* and _italic_. \n",
    "\n",
    "Paragraphs must be separated by an empty line. \n",
    "\n",
    "* Sometimes we want to include lists. \n",
    "* Which can be bulleted using asterisks. \n",
    "\n",
    "1. Lists can also be numbered. \n",
    "2. If we want an ordered list.\n",
    "\n",
    "[It is possible to include hyperlinks](https://www.example.com)\n",
    "\n",
    "Inline code uses single backticks: foo(), and code blocks use triple backticks: \n",
    "```\n",
    "bar()\n",
    "``` \n",
    "Or can be indented by 4 spaces: \n",
    "\n",
    "    foo()\n",
    "\n",
    "And finally, adding images is easy: ![Alt text](https://www.example.com/image.jpg)"
   ]
  },
  {
   "cell_type": "markdown",
   "id": "d1c03d73",
   "metadata": {},
   "source": [
    "## closing a notebook\n",
    "The easiest way to do this is to select “File > Close and Halt” from the notebook menu. However, you can also shutdown the kernel either by going to “Kernel > Shutdown” from within the notebook app or by selecting the notebook in the dashboard and clicking “Shutdown”."
   ]
  }
 ],
 "metadata": {
  "kernelspec": {
   "display_name": "Python 3 (ipykernel)",
   "language": "python",
   "name": "python3"
  },
  "language_info": {
   "codemirror_mode": {
    "name": "ipython",
    "version": 3
   },
   "file_extension": ".py",
   "mimetype": "text/x-python",
   "name": "python",
   "nbconvert_exporter": "python",
   "pygments_lexer": "ipython3",
   "version": "3.11.5"
  }
 },
 "nbformat": 4,
 "nbformat_minor": 5
}
